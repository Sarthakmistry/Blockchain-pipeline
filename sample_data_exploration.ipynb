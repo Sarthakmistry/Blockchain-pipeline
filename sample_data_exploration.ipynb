{
 "cells": [
  {
   "cell_type": "code",
   "execution_count": 1,
   "metadata": {},
   "outputs": [],
   "source": [
    "import os\n",
    "os.environ[\"GOOGLE_APPLICATION_CREDENTIALS\"] = \"bitcoindata-457720-f464ff7656ea.json\""
   ]
  },
  {
   "cell_type": "code",
   "execution_count": 2,
   "metadata": {},
   "outputs": [],
   "source": [
    "from google.cloud import bigquery\n",
    "import pandas as pd"
   ]
  },
  {
   "cell_type": "code",
   "execution_count": 3,
   "metadata": {},
   "outputs": [],
   "source": [
    "client = bigquery.Client()"
   ]
  },
  {
   "cell_type": "code",
   "execution_count": 4,
   "metadata": {},
   "outputs": [],
   "source": [
    "query = \"\"\"\n",
    "SELECT\n",
    "  t.hash,\n",
    "  t.size,\n",
    "  ARRAY_LENGTH(t.inputs) AS vin_sz,\n",
    "  ARRAY_LENGTH(t.outputs) AS vout_sz,\n",
    "  (SELECT SUM(i.value) FROM UNNEST(t.inputs) i) AS input_value,\n",
    "  (SELECT SUM(o.value) FROM UNNEST(t.outputs) o) AS output_value,\n",
    "  (SELECT SUM(i.value) FROM UNNEST(t.inputs) i) -\n",
    "  (SELECT SUM(o.value) FROM UNNEST(t.outputs) o) AS fee,\n",
    "  t.block_timestamp\n",
    "FROM `bigquery-public-data.crypto_bitcoin.transactions` t TABLESAMPLE SYSTEM (1 PERCENT)\n",
    "WHERE t.block_timestamp IS NOT NULL\n",
    "ORDER BY t.block_timestamp DESC\n",
    "LIMIT 100000\n",
    "\"\"\""
   ]
  },
  {
   "cell_type": "code",
   "execution_count": 5,
   "metadata": {},
   "outputs": [
    {
     "name": "stderr",
     "output_type": "stream",
     "text": [
      "/opt/anaconda3/lib/python3.12/site-packages/google/cloud/bigquery/table.py:1933: UserWarning: BigQuery Storage module not found, fetch data with the REST endpoint instead.\n",
      "  warnings.warn(\n"
     ]
    }
   ],
   "source": [
    "df = client.query(query).to_dataframe()"
   ]
  },
  {
   "cell_type": "code",
   "execution_count": 6,
   "metadata": {},
   "outputs": [
    {
     "data": {
      "text/html": [
       "<div>\n",
       "<style scoped>\n",
       "    .dataframe tbody tr th:only-of-type {\n",
       "        vertical-align: middle;\n",
       "    }\n",
       "\n",
       "    .dataframe tbody tr th {\n",
       "        vertical-align: top;\n",
       "    }\n",
       "\n",
       "    .dataframe thead th {\n",
       "        text-align: right;\n",
       "    }\n",
       "</style>\n",
       "<table border=\"1\" class=\"dataframe\">\n",
       "  <thead>\n",
       "    <tr style=\"text-align: right;\">\n",
       "      <th></th>\n",
       "      <th>hash</th>\n",
       "      <th>size</th>\n",
       "      <th>vin_sz</th>\n",
       "      <th>vout_sz</th>\n",
       "      <th>input_value</th>\n",
       "      <th>output_value</th>\n",
       "      <th>fee</th>\n",
       "      <th>block_timestamp</th>\n",
       "    </tr>\n",
       "  </thead>\n",
       "  <tbody>\n",
       "    <tr>\n",
       "      <th>0</th>\n",
       "      <td>36212c4d55815e0a04733a0500926ef38876920404f041...</td>\n",
       "      <td>194</td>\n",
       "      <td>1</td>\n",
       "      <td>1</td>\n",
       "      <td>417021.000000000</td>\n",
       "      <td>416569.000000000</td>\n",
       "      <td>452.000000000</td>\n",
       "      <td>2025-04-18 23:47:46+00:00</td>\n",
       "    </tr>\n",
       "    <tr>\n",
       "      <th>1</th>\n",
       "      <td>11ec29c3ac884fb4c1f12fab1b9c455205c70069295130...</td>\n",
       "      <td>205</td>\n",
       "      <td>1</td>\n",
       "      <td>2</td>\n",
       "      <td>14725.000000000</td>\n",
       "      <td>14263.000000000</td>\n",
       "      <td>462.000000000</td>\n",
       "      <td>2025-04-18 23:47:46+00:00</td>\n",
       "    </tr>\n",
       "    <tr>\n",
       "      <th>2</th>\n",
       "      <td>89d8d27e4183ebbb4aaf0ba1f1d708d610fbe82d79a8ec...</td>\n",
       "      <td>229</td>\n",
       "      <td>1</td>\n",
       "      <td>2</td>\n",
       "      <td>795.000000000</td>\n",
       "      <td>330.000000000</td>\n",
       "      <td>465.000000000</td>\n",
       "      <td>2025-04-18 23:47:46+00:00</td>\n",
       "    </tr>\n",
       "    <tr>\n",
       "      <th>3</th>\n",
       "      <td>5a59d71ccc66cafa3af24e2f4a6a2eee5bfcab5183de58...</td>\n",
       "      <td>194</td>\n",
       "      <td>1</td>\n",
       "      <td>1</td>\n",
       "      <td>249990.000000000</td>\n",
       "      <td>249651.000000000</td>\n",
       "      <td>339.000000000</td>\n",
       "      <td>2025-04-18 23:47:46+00:00</td>\n",
       "    </tr>\n",
       "    <tr>\n",
       "      <th>4</th>\n",
       "      <td>ee23fe345a6820721dbd0e7e7c7e7825a2920972787085...</td>\n",
       "      <td>224</td>\n",
       "      <td>1</td>\n",
       "      <td>2</td>\n",
       "      <td>1493283.000000000</td>\n",
       "      <td>1492573.000000000</td>\n",
       "      <td>710.000000000</td>\n",
       "      <td>2025-04-18 23:47:46+00:00</td>\n",
       "    </tr>\n",
       "  </tbody>\n",
       "</table>\n",
       "</div>"
      ],
      "text/plain": [
       "                                                hash  size  vin_sz  vout_sz  \\\n",
       "0  36212c4d55815e0a04733a0500926ef38876920404f041...   194       1        1   \n",
       "1  11ec29c3ac884fb4c1f12fab1b9c455205c70069295130...   205       1        2   \n",
       "2  89d8d27e4183ebbb4aaf0ba1f1d708d610fbe82d79a8ec...   229       1        2   \n",
       "3  5a59d71ccc66cafa3af24e2f4a6a2eee5bfcab5183de58...   194       1        1   \n",
       "4  ee23fe345a6820721dbd0e7e7c7e7825a2920972787085...   224       1        2   \n",
       "\n",
       "         input_value       output_value            fee  \\\n",
       "0   417021.000000000   416569.000000000  452.000000000   \n",
       "1    14725.000000000    14263.000000000  462.000000000   \n",
       "2      795.000000000      330.000000000  465.000000000   \n",
       "3   249990.000000000   249651.000000000  339.000000000   \n",
       "4  1493283.000000000  1492573.000000000  710.000000000   \n",
       "\n",
       "            block_timestamp  \n",
       "0 2025-04-18 23:47:46+00:00  \n",
       "1 2025-04-18 23:47:46+00:00  \n",
       "2 2025-04-18 23:47:46+00:00  \n",
       "3 2025-04-18 23:47:46+00:00  \n",
       "4 2025-04-18 23:47:46+00:00  "
      ]
     },
     "execution_count": 6,
     "metadata": {},
     "output_type": "execute_result"
    }
   ],
   "source": [
    "df.head()"
   ]
  }
 ],
 "metadata": {
  "kernelspec": {
   "display_name": "py310",
   "language": "python",
   "name": "python3"
  },
  "language_info": {
   "codemirror_mode": {
    "name": "ipython",
    "version": 3
   },
   "file_extension": ".py",
   "mimetype": "text/x-python",
   "name": "python",
   "nbconvert_exporter": "python",
   "pygments_lexer": "ipython3",
   "version": "3.10.16"
  }
 },
 "nbformat": 4,
 "nbformat_minor": 2
}
